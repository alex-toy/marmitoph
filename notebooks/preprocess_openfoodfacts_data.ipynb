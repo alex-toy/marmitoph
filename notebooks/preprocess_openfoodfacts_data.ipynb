{
 "metadata": {
  "language_info": {
   "codemirror_mode": {
    "name": "ipython",
    "version": 3
   },
   "file_extension": ".py",
   "mimetype": "text/x-python",
   "name": "python",
   "nbconvert_exporter": "python",
   "pygments_lexer": "ipython3",
   "version": "3.8.3-final"
  },
  "orig_nbformat": 2,
  "kernelspec": {
   "name": "python3",
   "display_name": "Python 3"
  }
 },
 "nbformat": 4,
 "nbformat_minor": 2,
 "cells": [
  {
   "source": [
    "# Processing openfood data"
   ],
   "cell_type": "markdown",
   "metadata": {}
  },
  {
   "source": [
    "## Import and concatenate .csv"
   ],
   "cell_type": "markdown",
   "metadata": {}
  },
  {
   "cell_type": "code",
   "execution_count": 28,
   "metadata": {},
   "outputs": [
    {
     "output_type": "execute_result",
     "data": {
      "text/plain": [
       "                                                image_url        barcode  \\\n",
       "0       https://static.openfoodfacts.org/images/produc...  8410128113131   \n",
       "1       https://static.openfoodfacts.org/images/produc...  3521230006800   \n",
       "2       https://static.openfoodfacts.org/images/produc...  3083680020763   \n",
       "3       https://static.openfoodfacts.org/images/produc...  3564700582664   \n",
       "4       https://static.openfoodfacts.org/images/produc...  3396410006372   \n",
       "...                                                   ...            ...   \n",
       "129995  https://static.openfoodfacts.org/images/produc...       54004139   \n",
       "129996  https://static.openfoodfacts.org/images/produc...  5410391393455   \n",
       "129997  https://static.openfoodfacts.org/images/produc...  5412723160261   \n",
       "129998  https://static.openfoodfacts.org/images/produc...  3168930000419   \n",
       "129999  https://static.openfoodfacts.org/images/produc...  3350030166786   \n",
       "\n",
       "                                   product_name  \\\n",
       "0                                 Yaourt Creamy   \n",
       "1                                        Quinoa   \n",
       "2                                          Maïs   \n",
       "3             Tartines croustillantes au seigle   \n",
       "4                                     Margarine   \n",
       "...                                         ...   \n",
       "129995  Schweppes Tonic Original Premium Mixers   \n",
       "129996                                cuberdons   \n",
       "129997                                    Curry   \n",
       "129998            Benenuts Fritelle Gout Nature   \n",
       "129999                          Knacks pur porc   \n",
       "\n",
       "                                       product_category_1  \\\n",
       "0       Produits laitiers, Produits fermentés, Produit...   \n",
       "1       Aliments et boissons à base de végétaux, Alime...   \n",
       "2       Aliments et boissons à base de végétaux, Alime...   \n",
       "3       Aliments et boissons à base de végétaux, Alime...   \n",
       "4       Aliments et boissons à base de végétaux, Alime...   \n",
       "...                                                   ...   \n",
       "129995  Boissons, Boissons gazeuses, Sodas, Boissons a...   \n",
       "129996        Snacks, Snacks sucrés, Confiseries, Bonbons   \n",
       "129997  Aliments et boissons à base de végétaux, Alime...   \n",
       "129998  Snacks, Snacks salés, Apéritif, Biscuits apéri...   \n",
       "129999  Viandes, Charcuteries, Saucisses, Saucisses fr...   \n",
       "\n",
       "                    product_category_2  \n",
       "0                           en:yogurts  \n",
       "1                            en:quinoa  \n",
       "2                 en:canned-sweet-corn  \n",
       "3                       en:crispbreads  \n",
       "4                        en:margarines  \n",
       "...                                ...  \n",
       "129995          en:sweetened-beverages  \n",
       "129996                      en:candies  \n",
       "129997                        fr:curry  \n",
       "129998  fr:biscuits-aperitifs-souffles  \n",
       "129999          en:strasbourg-sausages  \n",
       "\n",
       "[130000 rows x 5 columns]"
      ],
      "text/html": "<div>\n<style scoped>\n    .dataframe tbody tr th:only-of-type {\n        vertical-align: middle;\n    }\n\n    .dataframe tbody tr th {\n        vertical-align: top;\n    }\n\n    .dataframe thead th {\n        text-align: right;\n    }\n</style>\n<table border=\"1\" class=\"dataframe\">\n  <thead>\n    <tr style=\"text-align: right;\">\n      <th></th>\n      <th>image_url</th>\n      <th>barcode</th>\n      <th>product_name</th>\n      <th>product_category_1</th>\n      <th>product_category_2</th>\n    </tr>\n  </thead>\n  <tbody>\n    <tr>\n      <th>0</th>\n      <td>https://static.openfoodfacts.org/images/produc...</td>\n      <td>8410128113131</td>\n      <td>Yaourt Creamy</td>\n      <td>Produits laitiers, Produits fermentés, Produit...</td>\n      <td>en:yogurts</td>\n    </tr>\n    <tr>\n      <th>1</th>\n      <td>https://static.openfoodfacts.org/images/produc...</td>\n      <td>3521230006800</td>\n      <td>Quinoa</td>\n      <td>Aliments et boissons à base de végétaux, Alime...</td>\n      <td>en:quinoa</td>\n    </tr>\n    <tr>\n      <th>2</th>\n      <td>https://static.openfoodfacts.org/images/produc...</td>\n      <td>3083680020763</td>\n      <td>Maïs</td>\n      <td>Aliments et boissons à base de végétaux, Alime...</td>\n      <td>en:canned-sweet-corn</td>\n    </tr>\n    <tr>\n      <th>3</th>\n      <td>https://static.openfoodfacts.org/images/produc...</td>\n      <td>3564700582664</td>\n      <td>Tartines croustillantes au seigle</td>\n      <td>Aliments et boissons à base de végétaux, Alime...</td>\n      <td>en:crispbreads</td>\n    </tr>\n    <tr>\n      <th>4</th>\n      <td>https://static.openfoodfacts.org/images/produc...</td>\n      <td>3396410006372</td>\n      <td>Margarine</td>\n      <td>Aliments et boissons à base de végétaux, Alime...</td>\n      <td>en:margarines</td>\n    </tr>\n    <tr>\n      <th>...</th>\n      <td>...</td>\n      <td>...</td>\n      <td>...</td>\n      <td>...</td>\n      <td>...</td>\n    </tr>\n    <tr>\n      <th>129995</th>\n      <td>https://static.openfoodfacts.org/images/produc...</td>\n      <td>54004139</td>\n      <td>Schweppes Tonic Original Premium Mixers</td>\n      <td>Boissons, Boissons gazeuses, Sodas, Boissons a...</td>\n      <td>en:sweetened-beverages</td>\n    </tr>\n    <tr>\n      <th>129996</th>\n      <td>https://static.openfoodfacts.org/images/produc...</td>\n      <td>5410391393455</td>\n      <td>cuberdons</td>\n      <td>Snacks, Snacks sucrés, Confiseries, Bonbons</td>\n      <td>en:candies</td>\n    </tr>\n    <tr>\n      <th>129997</th>\n      <td>https://static.openfoodfacts.org/images/produc...</td>\n      <td>5412723160261</td>\n      <td>Curry</td>\n      <td>Aliments et boissons à base de végétaux, Alime...</td>\n      <td>fr:curry</td>\n    </tr>\n    <tr>\n      <th>129998</th>\n      <td>https://static.openfoodfacts.org/images/produc...</td>\n      <td>3168930000419</td>\n      <td>Benenuts Fritelle Gout Nature</td>\n      <td>Snacks, Snacks salés, Apéritif, Biscuits apéri...</td>\n      <td>fr:biscuits-aperitifs-souffles</td>\n    </tr>\n    <tr>\n      <th>129999</th>\n      <td>https://static.openfoodfacts.org/images/produc...</td>\n      <td>3350030166786</td>\n      <td>Knacks pur porc</td>\n      <td>Viandes, Charcuteries, Saucisses, Saucisses fr...</td>\n      <td>en:strasbourg-sausages</td>\n    </tr>\n  </tbody>\n</table>\n<p>130000 rows × 5 columns</p>\n</div>"
     },
     "metadata": {},
     "execution_count": 28
    }
   ],
   "source": [
    "import pandas as pd \n",
    "import os\n",
    "\n",
    "folder_path = \"../data/openfood_facts_csv\"\n",
    "nb_csv = 26\n",
    "\n",
    "i = 0\n",
    "filename = \"products_{}_{}.csv\".format(5000*i, 5000*(i+1))\n",
    "filepath = os.path.join(folder_path, filename)\n",
    "df = pd.read_csv(filepath)\n",
    "\n",
    "for i in range(1,nb_csv):\n",
    "    filename = \"products_{}_{}.csv\".format(5000*i, 5000*(i+1))\n",
    "    filepath = os.path.join(folder_path, filename)\n",
    "    df = pd.concat([df, pd.read_csv(filepath)], ignore_index = True)\n",
    "\n",
    "df"
   ]
  },
  {
   "cell_type": "code",
   "execution_count": 29,
   "metadata": {},
   "outputs": [
    {
     "output_type": "execute_result",
     "data": {
      "text/plain": [
       "                                                image_url        barcode  \\\n",
       "0       https://static.openfoodfacts.org/images/produc...  8410128113131   \n",
       "1       https://static.openfoodfacts.org/images/produc...  3521230006800   \n",
       "2       https://static.openfoodfacts.org/images/produc...  3083680020763   \n",
       "3       https://static.openfoodfacts.org/images/produc...  3564700582664   \n",
       "4       https://static.openfoodfacts.org/images/produc...  3396410006372   \n",
       "...                                                   ...            ...   \n",
       "129995  https://static.openfoodfacts.org/images/produc...       54004139   \n",
       "129996  https://static.openfoodfacts.org/images/produc...  5410391393455   \n",
       "129997  https://static.openfoodfacts.org/images/produc...  5412723160261   \n",
       "129998  https://static.openfoodfacts.org/images/produc...  3168930000419   \n",
       "129999  https://static.openfoodfacts.org/images/produc...  3350030166786   \n",
       "\n",
       "                                   product_name  \\\n",
       "0                                 Yaourt Creamy   \n",
       "1                                        Quinoa   \n",
       "2                                          Maïs   \n",
       "3             Tartines croustillantes au seigle   \n",
       "4                                     Margarine   \n",
       "...                                         ...   \n",
       "129995  Schweppes Tonic Original Premium Mixers   \n",
       "129996                                cuberdons   \n",
       "129997                                    Curry   \n",
       "129998            Benenuts Fritelle Gout Nature   \n",
       "129999                          Knacks pur porc   \n",
       "\n",
       "                                       product_category_1  \\\n",
       "0       Produits laitiers, Produits fermentés, Produit...   \n",
       "1       Aliments et boissons à base de végétaux, Alime...   \n",
       "2       Aliments et boissons à base de végétaux, Alime...   \n",
       "3       Aliments et boissons à base de végétaux, Alime...   \n",
       "4       Aliments et boissons à base de végétaux, Alime...   \n",
       "...                                                   ...   \n",
       "129995  Boissons, Boissons gazeuses, Sodas, Boissons a...   \n",
       "129996        Snacks, Snacks sucrés, Confiseries, Bonbons   \n",
       "129997  Aliments et boissons à base de végétaux, Alime...   \n",
       "129998  Snacks, Snacks salés, Apéritif, Biscuits apéri...   \n",
       "129999  Viandes, Charcuteries, Saucisses, Saucisses fr...   \n",
       "\n",
       "                    product_category_2  \n",
       "0                           en:yogurts  \n",
       "1                            en:quinoa  \n",
       "2                 en:canned-sweet-corn  \n",
       "3                       en:crispbreads  \n",
       "4                        en:margarines  \n",
       "...                                ...  \n",
       "129995          en:sweetened-beverages  \n",
       "129996                      en:candies  \n",
       "129997                        fr:curry  \n",
       "129998  fr:biscuits-aperitifs-souffles  \n",
       "129999          en:strasbourg-sausages  \n",
       "\n",
       "[128657 rows x 5 columns]"
      ],
      "text/html": "<div>\n<style scoped>\n    .dataframe tbody tr th:only-of-type {\n        vertical-align: middle;\n    }\n\n    .dataframe tbody tr th {\n        vertical-align: top;\n    }\n\n    .dataframe thead th {\n        text-align: right;\n    }\n</style>\n<table border=\"1\" class=\"dataframe\">\n  <thead>\n    <tr style=\"text-align: right;\">\n      <th></th>\n      <th>image_url</th>\n      <th>barcode</th>\n      <th>product_name</th>\n      <th>product_category_1</th>\n      <th>product_category_2</th>\n    </tr>\n  </thead>\n  <tbody>\n    <tr>\n      <th>0</th>\n      <td>https://static.openfoodfacts.org/images/produc...</td>\n      <td>8410128113131</td>\n      <td>Yaourt Creamy</td>\n      <td>Produits laitiers, Produits fermentés, Produit...</td>\n      <td>en:yogurts</td>\n    </tr>\n    <tr>\n      <th>1</th>\n      <td>https://static.openfoodfacts.org/images/produc...</td>\n      <td>3521230006800</td>\n      <td>Quinoa</td>\n      <td>Aliments et boissons à base de végétaux, Alime...</td>\n      <td>en:quinoa</td>\n    </tr>\n    <tr>\n      <th>2</th>\n      <td>https://static.openfoodfacts.org/images/produc...</td>\n      <td>3083680020763</td>\n      <td>Maïs</td>\n      <td>Aliments et boissons à base de végétaux, Alime...</td>\n      <td>en:canned-sweet-corn</td>\n    </tr>\n    <tr>\n      <th>3</th>\n      <td>https://static.openfoodfacts.org/images/produc...</td>\n      <td>3564700582664</td>\n      <td>Tartines croustillantes au seigle</td>\n      <td>Aliments et boissons à base de végétaux, Alime...</td>\n      <td>en:crispbreads</td>\n    </tr>\n    <tr>\n      <th>4</th>\n      <td>https://static.openfoodfacts.org/images/produc...</td>\n      <td>3396410006372</td>\n      <td>Margarine</td>\n      <td>Aliments et boissons à base de végétaux, Alime...</td>\n      <td>en:margarines</td>\n    </tr>\n    <tr>\n      <th>...</th>\n      <td>...</td>\n      <td>...</td>\n      <td>...</td>\n      <td>...</td>\n      <td>...</td>\n    </tr>\n    <tr>\n      <th>129995</th>\n      <td>https://static.openfoodfacts.org/images/produc...</td>\n      <td>54004139</td>\n      <td>Schweppes Tonic Original Premium Mixers</td>\n      <td>Boissons, Boissons gazeuses, Sodas, Boissons a...</td>\n      <td>en:sweetened-beverages</td>\n    </tr>\n    <tr>\n      <th>129996</th>\n      <td>https://static.openfoodfacts.org/images/produc...</td>\n      <td>5410391393455</td>\n      <td>cuberdons</td>\n      <td>Snacks, Snacks sucrés, Confiseries, Bonbons</td>\n      <td>en:candies</td>\n    </tr>\n    <tr>\n      <th>129997</th>\n      <td>https://static.openfoodfacts.org/images/produc...</td>\n      <td>5412723160261</td>\n      <td>Curry</td>\n      <td>Aliments et boissons à base de végétaux, Alime...</td>\n      <td>fr:curry</td>\n    </tr>\n    <tr>\n      <th>129998</th>\n      <td>https://static.openfoodfacts.org/images/produc...</td>\n      <td>3168930000419</td>\n      <td>Benenuts Fritelle Gout Nature</td>\n      <td>Snacks, Snacks salés, Apéritif, Biscuits apéri...</td>\n      <td>fr:biscuits-aperitifs-souffles</td>\n    </tr>\n    <tr>\n      <th>129999</th>\n      <td>https://static.openfoodfacts.org/images/produc...</td>\n      <td>3350030166786</td>\n      <td>Knacks pur porc</td>\n      <td>Viandes, Charcuteries, Saucisses, Saucisses fr...</td>\n      <td>en:strasbourg-sausages</td>\n    </tr>\n  </tbody>\n</table>\n<p>128657 rows × 5 columns</p>\n</div>"
     },
     "metadata": {},
     "execution_count": 29
    }
   ],
   "source": [
    "df = df.dropna()\n",
    "df"
   ]
  },
  {
   "source": [
    "## Format category"
   ],
   "cell_type": "markdown",
   "metadata": {}
  },
  {
   "cell_type": "code",
   "execution_count": 30,
   "metadata": {},
   "outputs": [
    {
     "output_type": "execute_result",
     "data": {
      "text/plain": [
       "boissons avec sucre ajouté    1560\n",
       "en:fruit jams                 1322\n",
       "filet de poulet               1049\n",
       "boissons                      1043\n",
       "biscuits                      1016\n",
       "                              ... \n",
       "sweet ciders                     1\n",
       "haringsalade                     1\n",
       "fr:lard à griller                1\n",
       "corn                             1\n",
       "kuhmilchjoghurt                  1\n",
       "Name: product_category, Length: 12706, dtype: int64"
      ]
     },
     "metadata": {},
     "execution_count": 30
    }
   ],
   "source": [
    "\n",
    "df['product_category'] = df['product_category_1'].astype('str')\n",
    "df['product_category'] = df['product_category'].str.lower()\n",
    "df['product_category'] = df['product_category'].apply(lambda x : x.split(', ')[-1] if ', ' in x else x)\n",
    "df['product_category'] = df['product_category'].apply(lambda x : x.split(',')[-1] if ',' in x else x)\n",
    "df['product_category'] = df['product_category'].apply(lambda x : x.replace('-', ' '))\n",
    "# df['product_category'] = df['product_category'].apply(lambda x : translator.translate(x.split(':')[-1]) if ':' in x else x)\n",
    "category_tab = df['product_category'].value_counts()\n",
    "\n",
    "category_tab"
   ]
  },
  {
   "cell_type": "code",
   "execution_count": 31,
   "metadata": {},
   "outputs": [
    {
     "output_type": "execute_result",
     "data": {
      "text/plain": [
       "en:fruit jams                                                   1322\n",
       "en:wheat pasta                                                   527\n",
       "en:labeled cheeses                                               519\n",
       "en:preparations made from fish meat                              405\n",
       "en:huile d’olive vierge extra                                    157\n",
       "en:tests                                                         110\n",
       "en:sablés à la noix de coco                                       64\n",
       "en:pure grapefruit juice                                          56\n",
       "en:snacks sucrés                                                  52\n",
       "en:vegetable jams                                                 37\n",
       "en:uncured soft cheese spreadable around 30 40 fat flavoured      36\n",
       "en:gingembre moulu                                                33\n",
       "en:canned kidney common beans                                     31\n",
       "en:raw spinach young leaves                                       31\n",
       "en:tomme cheese from mountain or savoy                            27\n",
       "Name: product_category, dtype: int64"
      ]
     },
     "metadata": {},
     "execution_count": 31
    }
   ],
   "source": [
    "english_categories = category_tab.loc[category_tab.index.str.contains(':', regex=False)]\n",
    "english_categories.iloc[0:15]"
   ]
  },
  {
   "cell_type": "code",
   "execution_count": 32,
   "metadata": {},
   "outputs": [
    {
     "output_type": "execute_result",
     "data": {
      "text/plain": [
       "boissons avec sucre ajouté        1560\n",
       "confitures de fruit               1322\n",
       "filet de poulet                   1049\n",
       "boissons                          1043\n",
       "biscuits                          1016\n",
       "                                  ... \n",
       "poudre chocolatee                    1\n",
       "1/2                                  1\n",
       "préparations à base de légumes       1\n",
       "mayonnaise fine                      1\n",
       "kuhmilchjoghurt                      1\n",
       "Name: product_category, Length: 12688, dtype: int64"
      ]
     },
     "metadata": {},
     "execution_count": 32
    }
   ],
   "source": [
    "def translate(x, translation_dict):\n",
    "    if x in translation_dict.keys():\n",
    "        return translation_dict[x]\n",
    "    else:\n",
    "        return x\n",
    "\n",
    "translation_dict = {'en:fruit jams' : 'confitures de fruit',\n",
    "                    'confitures' : 'confitures de fruits',\n",
    "                    'confitures de fruit' : 'confitures de fruits',\n",
    "                    'en:wheat pasta' : 'pâtes sèches au blé complet',\n",
    "                     'en:labeled cheeses' : 'fromages',\n",
    "                     'en:preparations made from fish meat': 'préparations à base de chair à poisson',\n",
    "                      'en:huile d’olive vierge extra': 'huile d’olive extra vierge',\n",
    "                       'en:tests': 'tests',\n",
    "                       'en:sablés à la noix de coco': 'sablés à la noix de coco',\n",
    "                       'en:snacks sucrés': 'snacks sucrés',\n",
    "                       'en:pure grapefruit juice': 'jus de pamplemousse',\n",
    "                       'en:vegetable jams': 'confits de légumes',\n",
    "                       'en:uncured soft cheese spreadable around 30 40 fat flavoured': 'fromages à tartiner',\n",
    "                       'en:gingembre moulu': 'gingembre en poudre',\n",
    "                        'en:canned kidney common beans': 'haricots rouges',\n",
    "                        'en:raw spinach young leaves': \"feuilles d'épinard\",\n",
    "                        'en:tomme cheese from mountain or savoy': 'tommes',\n",
    "                        'farines de blé': 'farine de blé',\n",
    "                        'semoules de blé dur pour couscous':'semoules de blé dur',\n",
    "                        'cornichons au vinaigre': 'cornichons',\n",
    "                        'beurres pasteurisés': 'beurres',\n",
    "                        'beurres doux': 'beurres',\n",
    "                        'pâtes alimentaires': 'pâtes',\n",
    "                        'lentilles': 'lentilles vertes'\n",
    "                         }\n",
    "\n",
    "df['product_category'] = df['product_category'].apply(translate, translation_dict = translation_dict)\n",
    "\n",
    "category_tab = df['product_category'].value_counts()\n",
    "\n",
    "category_tab"
   ]
  },
  {
   "cell_type": "code",
   "execution_count": 33,
   "metadata": {},
   "outputs": [],
   "source": [
    "folder_path = \"../data\"\n",
    "filename = \"categories_all.csv\"\n",
    "filepath = os.path.join(folder_path, filename)\n",
    "\n",
    "category_tab.to_csv(filepath)"
   ]
  },
  {
   "source": [
    "## Get top categories"
   ],
   "cell_type": "markdown",
   "metadata": {}
  },
  {
   "cell_type": "code",
   "execution_count": 34,
   "metadata": {},
   "outputs": [
    {
     "output_type": "stream",
     "name": "stdout",
     "text": [
      "boissons avec sucre ajouté                     1560\nconfitures de fruit                            1322\nfilet de poulet                                1049\nboissons                                       1043\nbiscuits                                       1016\n                                               ... \nflocons d'avoine                                102\nmacarons                                        101\nfilets d'anchois marinés à l'huile végétale     101\npetits pains grillés                            101\nchocolats blancs                                101\nName: product_category, Length: 236, dtype: int64\n"
     ]
    }
   ],
   "source": [
    "# # Selection based on number of categories\n",
    "# n_cat = 100\n",
    "# top_categories= category_tab[:n_cat]\n",
    "\n",
    "# Selection based on minimum number of products in each category\n",
    "min_cat = 100\n",
    "top_categories= category_tab[category_tab > min_cat]\n",
    "\n",
    "print(top_categories)\n",
    "\n"
   ]
  },
  {
   "cell_type": "code",
   "execution_count": 35,
   "metadata": {},
   "outputs": [],
   "source": [
    "folder_path = \"../data\"\n",
    "filename = \"categories_top.csv\"\n",
    "filepath = os.path.join(folder_path, filename)\n",
    "\n",
    "top_categories.to_csv(filepath)"
   ]
  },
  {
   "source": [
    "## Saving pictures in category folders and creating input csv file for model"
   ],
   "cell_type": "markdown",
   "metadata": {}
  },
  {
   "source": [
    "### Attention, cette étape peut être longue !"
   ],
   "cell_type": "markdown",
   "metadata": {}
  },
  {
   "cell_type": "code",
   "execution_count": 38,
   "metadata": {},
   "outputs": [],
   "source": [
    "import random\n",
    "random.seed(42)\n",
    "\n",
    "selected_categories = top_categories.index.tolist()\n",
    "nb_products = 100\n",
    "\n",
    "selected_index = []\n",
    "for cat in selected_categories:\n",
    "    index = df[df['product_category'] == cat].index.tolist()\n",
    "    selected_index+=(random.sample(index, nb_products))\n",
    "\n",
    "\n",
    "# df_filt = df[df['product_category'].isin(selected_categories)]\n",
    "df_filt = df.loc[selected_index]\n",
    "df_filt = df_filt.drop(columns = ['barcode', 'product_category_1', 'product_category_2', 'product_name'])"
   ]
  },
  {
   "cell_type": "code",
   "execution_count": 40,
   "metadata": {},
   "outputs": [],
   "source": [
    "import cv2, wget\n",
    "import os, sys\n",
    "\n",
    "for category in selected_categories:\n",
    "    if not os.path.exists(os.path.join(folder_path, category)):\n",
    "        os.mkdir(os.path.join(folder_path, category))\n",
    "\n",
    "    df_filt_cat = df_filt[df_filt[\"product_category\"] == category].reset_index()\n",
    "    for ind in df_filt_cat.index:\n",
    "        url = df_filt_cat['image_url'].iloc[ind]\n",
    "        filename = \"{}.jpg\".format(ind)\n",
    "        destination = os.path.join(folder_path, category, filename)\n",
    "        wget.download(url, out = destination)\n",
    "\n"
   ]
  },
  {
   "cell_type": "code",
   "execution_count": 46,
   "metadata": {},
   "outputs": [
    {
     "output_type": "execute_result",
     "data": {
      "text/plain": [
       "                                                   photo  \\\n",
       "7921                           input_photos/pâtes/21.jpg   \n",
       "1116    input_photos/huiles d'olive vierges extra/16.jpg   \n",
       "9293   input_photos/petits pois et carottes en conser...   \n",
       "10016                   input_photos/pâtes sèches/16.jpg   \n",
       "4682                         input_photos/poulets/82.jpg   \n",
       "...                                                  ...   \n",
       "13216           input_photos/miels de châtaignier/16.jpg   \n",
       "22550          input_photos/lardons de porc fumés/50.jpg   \n",
       "813                  input_photos/chocolats noirs/13.jpg   \n",
       "19416            input_photos/nectars multifruits/16.jpg   \n",
       "21671                       input_photos/brownies/71.jpg   \n",
       "\n",
       "                                     label  \n",
       "7921                                 pâtes  \n",
       "1116          huiles d'olive vierges extra  \n",
       "9293   petits pois et carottes en conserve  \n",
       "10016                         pâtes sèches  \n",
       "4682                               poulets  \n",
       "...                                    ...  \n",
       "13216                 miels de châtaignier  \n",
       "22550                lardons de porc fumés  \n",
       "813                        chocolats noirs  \n",
       "19416                  nectars multifruits  \n",
       "21671                             brownies  \n",
       "\n",
       "[23600 rows x 2 columns]"
      ],
      "text/html": "<div>\n<style scoped>\n    .dataframe tbody tr th:only-of-type {\n        vertical-align: middle;\n    }\n\n    .dataframe tbody tr th {\n        vertical-align: top;\n    }\n\n    .dataframe thead th {\n        text-align: right;\n    }\n</style>\n<table border=\"1\" class=\"dataframe\">\n  <thead>\n    <tr style=\"text-align: right;\">\n      <th></th>\n      <th>photo</th>\n      <th>label</th>\n    </tr>\n  </thead>\n  <tbody>\n    <tr>\n      <th>7921</th>\n      <td>input_photos/pâtes/21.jpg</td>\n      <td>pâtes</td>\n    </tr>\n    <tr>\n      <th>1116</th>\n      <td>input_photos/huiles d'olive vierges extra/16.jpg</td>\n      <td>huiles d'olive vierges extra</td>\n    </tr>\n    <tr>\n      <th>9293</th>\n      <td>input_photos/petits pois et carottes en conser...</td>\n      <td>petits pois et carottes en conserve</td>\n    </tr>\n    <tr>\n      <th>10016</th>\n      <td>input_photos/pâtes sèches/16.jpg</td>\n      <td>pâtes sèches</td>\n    </tr>\n    <tr>\n      <th>4682</th>\n      <td>input_photos/poulets/82.jpg</td>\n      <td>poulets</td>\n    </tr>\n    <tr>\n      <th>...</th>\n      <td>...</td>\n      <td>...</td>\n    </tr>\n    <tr>\n      <th>13216</th>\n      <td>input_photos/miels de châtaignier/16.jpg</td>\n      <td>miels de châtaignier</td>\n    </tr>\n    <tr>\n      <th>22550</th>\n      <td>input_photos/lardons de porc fumés/50.jpg</td>\n      <td>lardons de porc fumés</td>\n    </tr>\n    <tr>\n      <th>813</th>\n      <td>input_photos/chocolats noirs/13.jpg</td>\n      <td>chocolats noirs</td>\n    </tr>\n    <tr>\n      <th>19416</th>\n      <td>input_photos/nectars multifruits/16.jpg</td>\n      <td>nectars multifruits</td>\n    </tr>\n    <tr>\n      <th>21671</th>\n      <td>input_photos/brownies/71.jpg</td>\n      <td>brownies</td>\n    </tr>\n  </tbody>\n</table>\n<p>23600 rows × 2 columns</p>\n</div>"
     },
     "metadata": {},
     "execution_count": 46
    }
   ],
   "source": [
    "from sklearn.utils import shuffle\n",
    "\n",
    "photo = []\n",
    "label = []\n",
    "for category in selected_categories:\n",
    "    df_filt_cat = df_filt[df_filt[\"product_category\"] == category].reset_index()\n",
    "    for ind in df_filt_cat.index:\n",
    "        filename = \"{}.jpg\".format(ind)\n",
    "\n",
    "        photo.append(os.path.join('input_photos', category, filename))\n",
    "        label.append(category)\n",
    "\n",
    "input_df = pd.DataFrame({'photo': photo,\n",
    "                        'label': label})\n",
    "\n",
    "input_df = shuffle(input_df)\n",
    "\n",
    "input_df"
   ]
  },
  {
   "cell_type": "code",
   "execution_count": 47,
   "metadata": {},
   "outputs": [],
   "source": [
    "folder_path = \"../data\"\n",
    "filename = \"input_data.csv\"\n",
    "filepath = os.path.join(folder_path, filename)\n",
    "input_df.to_csv(filepath, index = False)"
   ]
  },
  {
   "source": [
    "## Create subset dataframe\n",
    "Subsamble of dataframe from top categories with same number of products"
   ],
   "cell_type": "markdown",
   "metadata": {}
  },
  {
   "cell_type": "code",
   "execution_count": 43,
   "metadata": {},
   "outputs": [],
   "source": [
    "nb_categories = 10\n"
   ]
  },
  {
   "cell_type": "code",
   "execution_count": 55,
   "metadata": {},
   "outputs": [
    {
     "output_type": "execute_result",
     "data": {
      "text/plain": [
       "                                                   photo  \\\n",
       "3035   input_photos/chips de pommes de terre à l'huil...   \n",
       "13315                  input_photos/sauces tomate/15.jpg   \n",
       "18377            input_photos/sweetened beverages/77.jpg   \n",
       "3019   input_photos/chips de pommes de terre à l'huil...   \n",
       "3093   input_photos/chips de pommes de terre à l'huil...   \n",
       "...                                                  ...   \n",
       "5850               input_photos/salades composées/50.jpg   \n",
       "2235                      input_photos/madeleines/35.jpg   \n",
       "5835               input_photos/salades composées/35.jpg   \n",
       "2429    input_photos/céréales pour petit déjeuner/29.jpg   \n",
       "12403           input_photos/steaks de bœuf hachés/3.jpg   \n",
       "\n",
       "                                                 label  \n",
       "3035   chips de pommes de terre à l'huile de tournesol  \n",
       "13315                                    sauces tomate  \n",
       "18377                              sweetened beverages  \n",
       "3019   chips de pommes de terre à l'huile de tournesol  \n",
       "3093   chips de pommes de terre à l'huile de tournesol  \n",
       "...                                                ...  \n",
       "5850                                 salades composées  \n",
       "2235                                        madeleines  \n",
       "5835                                 salades composées  \n",
       "2429                      céréales pour petit déjeuner  \n",
       "12403                            steaks de bœuf hachés  \n",
       "\n",
       "[1000 rows x 2 columns]"
      ],
      "text/html": "<div>\n<style scoped>\n    .dataframe tbody tr th:only-of-type {\n        vertical-align: middle;\n    }\n\n    .dataframe tbody tr th {\n        vertical-align: top;\n    }\n\n    .dataframe thead th {\n        text-align: right;\n    }\n</style>\n<table border=\"1\" class=\"dataframe\">\n  <thead>\n    <tr style=\"text-align: right;\">\n      <th></th>\n      <th>photo</th>\n      <th>label</th>\n    </tr>\n  </thead>\n  <tbody>\n    <tr>\n      <th>3035</th>\n      <td>input_photos/chips de pommes de terre à l'huil...</td>\n      <td>chips de pommes de terre à l'huile de tournesol</td>\n    </tr>\n    <tr>\n      <th>13315</th>\n      <td>input_photos/sauces tomate/15.jpg</td>\n      <td>sauces tomate</td>\n    </tr>\n    <tr>\n      <th>18377</th>\n      <td>input_photos/sweetened beverages/77.jpg</td>\n      <td>sweetened beverages</td>\n    </tr>\n    <tr>\n      <th>3019</th>\n      <td>input_photos/chips de pommes de terre à l'huil...</td>\n      <td>chips de pommes de terre à l'huile de tournesol</td>\n    </tr>\n    <tr>\n      <th>3093</th>\n      <td>input_photos/chips de pommes de terre à l'huil...</td>\n      <td>chips de pommes de terre à l'huile de tournesol</td>\n    </tr>\n    <tr>\n      <th>...</th>\n      <td>...</td>\n      <td>...</td>\n    </tr>\n    <tr>\n      <th>5850</th>\n      <td>input_photos/salades composées/50.jpg</td>\n      <td>salades composées</td>\n    </tr>\n    <tr>\n      <th>2235</th>\n      <td>input_photos/madeleines/35.jpg</td>\n      <td>madeleines</td>\n    </tr>\n    <tr>\n      <th>5835</th>\n      <td>input_photos/salades composées/35.jpg</td>\n      <td>salades composées</td>\n    </tr>\n    <tr>\n      <th>2429</th>\n      <td>input_photos/céréales pour petit déjeuner/29.jpg</td>\n      <td>céréales pour petit déjeuner</td>\n    </tr>\n    <tr>\n      <th>12403</th>\n      <td>input_photos/steaks de bœuf hachés/3.jpg</td>\n      <td>steaks de bœuf hachés</td>\n    </tr>\n  </tbody>\n</table>\n<p>1000 rows × 2 columns</p>\n</div>"
     },
     "metadata": {},
     "execution_count": 55
    }
   ],
   "source": [
    "subsample_categories = random.sample(selected_categories, nb_categories)\n",
    "\n",
    "selected_index = []\n",
    "for cat in subsample_categories:\n",
    "    index = input_df[input_df['label'] == cat].index.tolist()\n",
    "    selected_index+=(random.sample(index, nb_products))\n",
    "\n",
    "sub_df = input_df.loc[selected_index]\n",
    "sub_df = shuffle(sub_df)\n",
    "\n",
    "sub_df\n"
   ]
  },
  {
   "cell_type": "code",
   "execution_count": 56,
   "metadata": {},
   "outputs": [],
   "source": [
    "filename = \"subset_input_data.csv\"\n",
    "filepath = os.path.join(folder_path, filename)\n",
    "sub_df.to_csv(filepath, index = False)"
   ]
  },
  {
   "cell_type": "code",
   "execution_count": null,
   "metadata": {},
   "outputs": [],
   "source": []
  }
 ]
}